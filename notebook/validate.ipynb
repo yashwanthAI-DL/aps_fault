{
 "cells": [
  {
   "cell_type": "code",
   "execution_count": 1,
   "metadata": {},
   "outputs": [
    {
     "name": "stdout",
     "output_type": "stream",
     "text": [
      "loading environment variable\n"
     ]
    }
   ],
   "source": [
    "from sensor import utils\n",
    "from sensor.Entity import config_entity\n",
    "from sensor.Entity import artifact_entity\n",
    "from sensor.exception import SensorException\n",
    "from sensor.logger import logging\n",
    "from typing import Optional\n",
    "import os,sys \n",
    "from sklearn.pipeline import Pipeline\n",
    "import pandas as pd\n",
    "from sensor import utils\n",
    "import numpy as np\n",
    "from sklearn.preprocessing import LabelEncoder\n",
    "from sklearn.utils import resample\n",
    "from sklearn.impute import SimpleImputer\n",
    "from sklearn.preprocessing import RobustScaler\n",
    "from sensor.config import TARGET_COLUMN"
   ]
  },
  {
   "cell_type": "code",
   "execution_count": 12,
   "metadata": {},
   "outputs": [],
   "source": [
    "class DataTransformation1:\n",
    "    def __init__(self,data_transformation_config:config_entity.DataTransformationConfig,\n",
    "    data_ingestion_artifact:artifact_entity.DataIngestionArtifact):\n",
    "        try:\n",
    "            self.data_transformation_config=data_transformation_config\n",
    "            self.data_ingestion_artifact=data_ingestion_artifact\n",
    "        except Exception as e:\n",
    "            raise SensorException(e, sys)\n",
    "    def train_test(self):\n",
    "        train_df = pd.read_csv(self.data_ingestion_artifact.train_file_path)\n",
    "        test_df = pd.read_csv(self.data_ingestion_artifact.test_file_path)\n",
    "        print(train_df)\n",
    "        train_df = train_df[train_df['class'] == 'pos']\n",
    "        other_df = train_df[train_df['class']!='pos']\n",
    "        train_df = test_df[test_df['class'] == 'pos']\n",
    "        other_df = test_df[test_df['class']!='pos']\n",
    "\n"
   ]
  },
  {
   "cell_type": "code",
   "execution_count": null,
   "metadata": {},
   "outputs": [],
   "source": []
  },
  {
   "cell_type": "code",
   "execution_count": null,
   "metadata": {},
   "outputs": [],
   "source": []
  },
  {
   "cell_type": "code",
   "execution_count": null,
   "metadata": {},
   "outputs": [],
   "source": []
  }
 ],
 "metadata": {
  "kernelspec": {
   "display_name": "Python 3.8.10 64-bit",
   "language": "python",
   "name": "python3"
  },
  "language_info": {
   "codemirror_mode": {
    "name": "ipython",
    "version": 3
   },
   "file_extension": ".py",
   "mimetype": "text/x-python",
   "name": "python",
   "nbconvert_exporter": "python",
   "pygments_lexer": "ipython3",
   "version": "3.8.10"
  },
  "orig_nbformat": 4,
  "vscode": {
   "interpreter": {
    "hash": "e7370f93d1d0cde622a1f8e1c04877d8463912d04d973331ad4851f04de6915a"
   }
  }
 },
 "nbformat": 4,
 "nbformat_minor": 2
}
